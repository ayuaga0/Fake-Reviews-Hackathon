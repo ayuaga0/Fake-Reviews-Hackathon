{
 "cells": [
  {
   "cell_type": "code",
   "execution_count": 1,
   "metadata": {},
   "outputs": [],
   "source": [
    "import pandas as pd\n",
    "import numpy as np\n",
    "import matplotlib.pyplot as plt\n",
    "%matplotlib inline\n",
    "import seaborn as sns\n",
    "from nltk.tokenize import RegexpTokenizer\n",
    "from collections import OrderedDict\n",
    "\n",
    "import nltk\n",
    "from sklearn.feature_extraction.text import TfidfVectorizer\n",
    "from sklearn.linear_model import LogisticRegression,SGDClassifier\n",
    "from sklearn.metrics import classification_report, confusion_matrix, accuracy_score, recall_score, precision_score, f1_score, pairwise_distances\n",
    "from sklearn.model_selection import train_test_split"
   ]
  },
  {
   "cell_type": "markdown",
   "metadata": {},
   "source": [
    "Step by step:\n",
    "1. Load .csv\n",
    "2. Fill missing values\n",
    "3. Clean data\n",
    "4. \n",
    "\n",
    "- user_total_review_count: jumlah review yang diberikan user X\n",
    "- review_length: panjang teks review\n",
    "- user_fake_review = Flag userid yg melakukan fake review ditemukan di review yg berbeda.\n",
    "- product_fake_review = Flag product kalo produk ini dapet fake review\n",
    "- review_date = convert dari timestamp ke date\n",
    "\n",
    "- Similar reviews posted in the same time interval\n",
    "\n",
    "https://github.com/Swathiu/Detecting-Fake-Reviews\n",
    "https://github.com/darshandagly/Fake-Review-Detection\n",
    "\n",
    "https://towardsdatascience.com/sentiment-classification-using-logistic-regression-in-pytorch-e0c43de9eb66"
   ]
  },
  {
   "cell_type": "code",
   "execution_count": 2,
   "metadata": {},
   "outputs": [],
   "source": [
    "df = pd.read_csv(\"train_review_only.csv\") #baca dataset"
   ]
  },
  {
   "cell_type": "code",
   "execution_count": 3,
   "metadata": {},
   "outputs": [
    {
     "data": {
      "text/html": [
       "<div>\n",
       "<style scoped>\n",
       "    .dataframe tbody tr th:only-of-type {\n",
       "        vertical-align: middle;\n",
       "    }\n",
       "\n",
       "    .dataframe tbody tr th {\n",
       "        vertical-align: top;\n",
       "    }\n",
       "\n",
       "    .dataframe thead th {\n",
       "        text-align: right;\n",
       "    }\n",
       "</style>\n",
       "<table border=\"1\" class=\"dataframe\">\n",
       "  <thead>\n",
       "    <tr style=\"text-align: right;\">\n",
       "      <th></th>\n",
       "      <th>anonymous</th>\n",
       "      <th>author_shopid</th>\n",
       "      <th>author_username</th>\n",
       "      <th>cat_id</th>\n",
       "      <th>cmtid</th>\n",
       "      <th>comment</th>\n",
       "      <th>count_rating_with_image</th>\n",
       "      <th>count_with_context</th>\n",
       "      <th>ctime</th>\n",
       "      <th>editable</th>\n",
       "      <th>...</th>\n",
       "      <th>rating_count0</th>\n",
       "      <th>rating_count1</th>\n",
       "      <th>rating_count2</th>\n",
       "      <th>rating_count3</th>\n",
       "      <th>rating_count4</th>\n",
       "      <th>rating_count5</th>\n",
       "      <th>rating_star</th>\n",
       "      <th>shop_id</th>\n",
       "      <th>userid</th>\n",
       "      <th>fakeornot</th>\n",
       "    </tr>\n",
       "  </thead>\n",
       "  <tbody>\n",
       "    <tr>\n",
       "      <th>0</th>\n",
       "      <td>False</td>\n",
       "      <td>80294228</td>\n",
       "      <td>icanursarah</td>\n",
       "      <td>2902</td>\n",
       "      <td>2327971512</td>\n",
       "      <td>Hp sampai dengan selamat, berfungsi dengan bai...</td>\n",
       "      <td>922</td>\n",
       "      <td>2182</td>\n",
       "      <td>1588431497</td>\n",
       "      <td>1</td>\n",
       "      <td>...</td>\n",
       "      <td>7274</td>\n",
       "      <td>89</td>\n",
       "      <td>15</td>\n",
       "      <td>44</td>\n",
       "      <td>88</td>\n",
       "      <td>9088</td>\n",
       "      <td>5</td>\n",
       "      <td>15168157</td>\n",
       "      <td>80295702</td>\n",
       "      <td>fake</td>\n",
       "    </tr>\n",
       "    <tr>\n",
       "      <th>1</th>\n",
       "      <td>False</td>\n",
       "      <td>80294228</td>\n",
       "      <td>icanursarah</td>\n",
       "      <td>2902</td>\n",
       "      <td>2325993622</td>\n",
       "      <td>Mantabbagusmantabbagus yuhuuy\\r\\nRecommended s...</td>\n",
       "      <td>922</td>\n",
       "      <td>2182</td>\n",
       "      <td>1588403926</td>\n",
       "      <td>1</td>\n",
       "      <td>...</td>\n",
       "      <td>7274</td>\n",
       "      <td>89</td>\n",
       "      <td>15</td>\n",
       "      <td>44</td>\n",
       "      <td>88</td>\n",
       "      <td>9088</td>\n",
       "      <td>5</td>\n",
       "      <td>15168157</td>\n",
       "      <td>80295702</td>\n",
       "      <td>fake</td>\n",
       "    </tr>\n",
       "    <tr>\n",
       "      <th>2</th>\n",
       "      <td>False</td>\n",
       "      <td>80294228</td>\n",
       "      <td>icanursarah</td>\n",
       "      <td>2902</td>\n",
       "      <td>2325999143</td>\n",
       "      <td>Mantabbagusmantabbagus yuhuuy\\r\\nRecommended s...</td>\n",
       "      <td>922</td>\n",
       "      <td>2182</td>\n",
       "      <td>1588403984</td>\n",
       "      <td>1</td>\n",
       "      <td>...</td>\n",
       "      <td>7274</td>\n",
       "      <td>89</td>\n",
       "      <td>15</td>\n",
       "      <td>44</td>\n",
       "      <td>88</td>\n",
       "      <td>9088</td>\n",
       "      <td>5</td>\n",
       "      <td>15168157</td>\n",
       "      <td>80295702</td>\n",
       "      <td>fake</td>\n",
       "    </tr>\n",
       "    <tr>\n",
       "      <th>3</th>\n",
       "      <td>False</td>\n",
       "      <td>80294228</td>\n",
       "      <td>icanursarah</td>\n",
       "      <td>2902</td>\n",
       "      <td>2326001075</td>\n",
       "      <td>Mantabbagusmantabbagus yuhuuy\\r\\nRecommended s...</td>\n",
       "      <td>922</td>\n",
       "      <td>2182</td>\n",
       "      <td>1588404004</td>\n",
       "      <td>1</td>\n",
       "      <td>...</td>\n",
       "      <td>7274</td>\n",
       "      <td>89</td>\n",
       "      <td>15</td>\n",
       "      <td>44</td>\n",
       "      <td>88</td>\n",
       "      <td>9088</td>\n",
       "      <td>5</td>\n",
       "      <td>15168157</td>\n",
       "      <td>80295702</td>\n",
       "      <td>fake</td>\n",
       "    </tr>\n",
       "    <tr>\n",
       "      <th>4</th>\n",
       "      <td>False</td>\n",
       "      <td>16191982</td>\n",
       "      <td>rrp0811</td>\n",
       "      <td>2678</td>\n",
       "      <td>2361588821</td>\n",
       "      <td>Ini paket pertamaku beli disini.\\r\\nCepat\\r\\nT...</td>\n",
       "      <td>284</td>\n",
       "      <td>680</td>\n",
       "      <td>1589011931</td>\n",
       "      <td>1</td>\n",
       "      <td>...</td>\n",
       "      <td>1316</td>\n",
       "      <td>2</td>\n",
       "      <td>4</td>\n",
       "      <td>1</td>\n",
       "      <td>44</td>\n",
       "      <td>3584</td>\n",
       "      <td>5</td>\n",
       "      <td>134248812</td>\n",
       "      <td>16193318</td>\n",
       "      <td>fake</td>\n",
       "    </tr>\n",
       "  </tbody>\n",
       "</table>\n",
       "<p>5 rows × 25 columns</p>\n",
       "</div>"
      ],
      "text/plain": [
       "   anonymous  author_shopid author_username  cat_id       cmtid  \\\n",
       "0      False       80294228     icanursarah    2902  2327971512   \n",
       "1      False       80294228     icanursarah    2902  2325993622   \n",
       "2      False       80294228     icanursarah    2902  2325999143   \n",
       "3      False       80294228     icanursarah    2902  2326001075   \n",
       "4      False       16191982         rrp0811    2678  2361588821   \n",
       "\n",
       "                                             comment  count_rating_with_image  \\\n",
       "0  Hp sampai dengan selamat, berfungsi dengan bai...                      922   \n",
       "1  Mantabbagusmantabbagus yuhuuy\\r\\nRecommended s...                      922   \n",
       "2  Mantabbagusmantabbagus yuhuuy\\r\\nRecommended s...                      922   \n",
       "3  Mantabbagusmantabbagus yuhuuy\\r\\nRecommended s...                      922   \n",
       "4  Ini paket pertamaku beli disini.\\r\\nCepat\\r\\nT...                      284   \n",
       "\n",
       "   count_with_context       ctime  editable  ...  rating_count0  \\\n",
       "0                2182  1588431497         1  ...           7274   \n",
       "1                2182  1588403926         1  ...           7274   \n",
       "2                2182  1588403984         1  ...           7274   \n",
       "3                2182  1588404004         1  ...           7274   \n",
       "4                 680  1589011931         1  ...           1316   \n",
       "\n",
       "   rating_count1  rating_count2 rating_count3  rating_count4  rating_count5  \\\n",
       "0             89             15            44             88           9088   \n",
       "1             89             15            44             88           9088   \n",
       "2             89             15            44             88           9088   \n",
       "3             89             15            44             88           9088   \n",
       "4              2              4             1             44           3584   \n",
       "\n",
       "   rating_star    shop_id    userid  fakeornot  \n",
       "0            5   15168157  80295702       fake  \n",
       "1            5   15168157  80295702       fake  \n",
       "2            5   15168157  80295702       fake  \n",
       "3            5   15168157  80295702       fake  \n",
       "4            5  134248812  16193318       fake  \n",
       "\n",
       "[5 rows x 25 columns]"
      ]
     },
     "execution_count": 3,
     "metadata": {},
     "output_type": "execute_result"
    }
   ],
   "source": [
    "df.head()"
   ]
  },
  {
   "cell_type": "code",
   "execution_count": 4,
   "metadata": {
    "scrolled": true
   },
   "outputs": [
    {
     "data": {
      "text/html": [
       "<div>\n",
       "<style scoped>\n",
       "    .dataframe tbody tr th:only-of-type {\n",
       "        vertical-align: middle;\n",
       "    }\n",
       "\n",
       "    .dataframe tbody tr th {\n",
       "        vertical-align: top;\n",
       "    }\n",
       "\n",
       "    .dataframe thead th {\n",
       "        text-align: right;\n",
       "    }\n",
       "</style>\n",
       "<table border=\"1\" class=\"dataframe\">\n",
       "  <thead>\n",
       "    <tr style=\"text-align: right;\">\n",
       "      <th></th>\n",
       "      <th>author_shopid</th>\n",
       "      <th>cat_id</th>\n",
       "      <th>cmtid</th>\n",
       "      <th>count_rating_with_image</th>\n",
       "      <th>count_with_context</th>\n",
       "      <th>ctime</th>\n",
       "      <th>editable</th>\n",
       "      <th>item_id</th>\n",
       "      <th>mtime</th>\n",
       "      <th>orderid</th>\n",
       "      <th>rating</th>\n",
       "      <th>rating_count0</th>\n",
       "      <th>rating_count1</th>\n",
       "      <th>rating_count2</th>\n",
       "      <th>rating_count3</th>\n",
       "      <th>rating_count4</th>\n",
       "      <th>rating_count5</th>\n",
       "      <th>rating_star</th>\n",
       "      <th>shop_id</th>\n",
       "      <th>userid</th>\n",
       "    </tr>\n",
       "  </thead>\n",
       "  <tbody>\n",
       "    <tr>\n",
       "      <th>count</th>\n",
       "      <td>1.000000e+02</td>\n",
       "      <td>100.000000</td>\n",
       "      <td>1.000000e+02</td>\n",
       "      <td>100.000000</td>\n",
       "      <td>100.000000</td>\n",
       "      <td>1.000000e+02</td>\n",
       "      <td>100.000000</td>\n",
       "      <td>1.000000e+02</td>\n",
       "      <td>1.000000e+02</td>\n",
       "      <td>0.0</td>\n",
       "      <td>100.00000</td>\n",
       "      <td>100.00000</td>\n",
       "      <td>100.000000</td>\n",
       "      <td>100.00000</td>\n",
       "      <td>100.000000</td>\n",
       "      <td>100.000000</td>\n",
       "      <td>100.000000</td>\n",
       "      <td>100.000000</td>\n",
       "      <td>1.000000e+02</td>\n",
       "      <td>1.000000e+02</td>\n",
       "    </tr>\n",
       "    <tr>\n",
       "      <th>mean</th>\n",
       "      <td>9.165345e+07</td>\n",
       "      <td>2678.650000</td>\n",
       "      <td>2.313313e+09</td>\n",
       "      <td>715.080000</td>\n",
       "      <td>1259.940000</td>\n",
       "      <td>1.587748e+09</td>\n",
       "      <td>0.880000</td>\n",
       "      <td>3.835310e+09</td>\n",
       "      <td>1.587779e+09</td>\n",
       "      <td>NaN</td>\n",
       "      <td>0.83000</td>\n",
       "      <td>5463.27000</td>\n",
       "      <td>132.670000</td>\n",
       "      <td>15.98000</td>\n",
       "      <td>31.050000</td>\n",
       "      <td>87.550000</td>\n",
       "      <td>6961.970000</td>\n",
       "      <td>4.640000</td>\n",
       "      <td>8.219773e+07</td>\n",
       "      <td>9.165527e+07</td>\n",
       "    </tr>\n",
       "    <tr>\n",
       "      <th>std</th>\n",
       "      <td>7.629192e+07</td>\n",
       "      <td>577.913442</td>\n",
       "      <td>1.778786e+08</td>\n",
       "      <td>861.705083</td>\n",
       "      <td>1372.139941</td>\n",
       "      <td>4.372252e+06</td>\n",
       "      <td>0.477367</td>\n",
       "      <td>2.092785e+09</td>\n",
       "      <td>4.334472e+06</td>\n",
       "      <td>NaN</td>\n",
       "      <td>0.55149</td>\n",
       "      <td>6198.81407</td>\n",
       "      <td>224.825681</td>\n",
       "      <td>24.49159</td>\n",
       "      <td>42.989399</td>\n",
       "      <td>116.007347</td>\n",
       "      <td>8529.522252</td>\n",
       "      <td>1.123846</td>\n",
       "      <td>5.879091e+07</td>\n",
       "      <td>7.629268e+07</td>\n",
       "    </tr>\n",
       "    <tr>\n",
       "      <th>min</th>\n",
       "      <td>3.614449e+06</td>\n",
       "      <td>42.000000</td>\n",
       "      <td>1.414417e+09</td>\n",
       "      <td>0.000000</td>\n",
       "      <td>5.000000</td>\n",
       "      <td>1.564130e+09</td>\n",
       "      <td>0.000000</td>\n",
       "      <td>8.451010e+08</td>\n",
       "      <td>1.564130e+09</td>\n",
       "      <td>NaN</td>\n",
       "      <td>-1.00000</td>\n",
       "      <td>17.00000</td>\n",
       "      <td>0.000000</td>\n",
       "      <td>0.00000</td>\n",
       "      <td>0.000000</td>\n",
       "      <td>0.000000</td>\n",
       "      <td>14.000000</td>\n",
       "      <td>1.000000</td>\n",
       "      <td>1.912337e+06</td>\n",
       "      <td>3.615821e+06</td>\n",
       "    </tr>\n",
       "    <tr>\n",
       "      <th>25%</th>\n",
       "      <td>2.942194e+07</td>\n",
       "      <td>2160.000000</td>\n",
       "      <td>2.319222e+09</td>\n",
       "      <td>42.750000</td>\n",
       "      <td>56.000000</td>\n",
       "      <td>1.588259e+09</td>\n",
       "      <td>1.000000</td>\n",
       "      <td>2.354260e+09</td>\n",
       "      <td>1.588259e+09</td>\n",
       "      <td>NaN</td>\n",
       "      <td>1.00000</td>\n",
       "      <td>254.50000</td>\n",
       "      <td>1.750000</td>\n",
       "      <td>0.00000</td>\n",
       "      <td>0.750000</td>\n",
       "      <td>2.750000</td>\n",
       "      <td>148.000000</td>\n",
       "      <td>5.000000</td>\n",
       "      <td>1.978175e+07</td>\n",
       "      <td>2.942333e+07</td>\n",
       "    </tr>\n",
       "    <tr>\n",
       "      <th>50%</th>\n",
       "      <td>8.029423e+07</td>\n",
       "      <td>2580.000000</td>\n",
       "      <td>2.338198e+09</td>\n",
       "      <td>284.000000</td>\n",
       "      <td>680.000000</td>\n",
       "      <td>1.588655e+09</td>\n",
       "      <td>1.000000</td>\n",
       "      <td>2.767211e+09</td>\n",
       "      <td>1.588655e+09</td>\n",
       "      <td>NaN</td>\n",
       "      <td>1.00000</td>\n",
       "      <td>1551.00000</td>\n",
       "      <td>10.000000</td>\n",
       "      <td>4.00000</td>\n",
       "      <td>4.500000</td>\n",
       "      <td>20.000000</td>\n",
       "      <td>2449.500000</td>\n",
       "      <td>5.000000</td>\n",
       "      <td>7.401964e+07</td>\n",
       "      <td>8.029570e+07</td>\n",
       "    </tr>\n",
       "    <tr>\n",
       "      <th>75%</th>\n",
       "      <td>1.188133e+08</td>\n",
       "      <td>2902.000000</td>\n",
       "      <td>2.422795e+09</td>\n",
       "      <td>922.000000</td>\n",
       "      <td>2182.000000</td>\n",
       "      <td>1.589964e+09</td>\n",
       "      <td>1.000000</td>\n",
       "      <td>5.505998e+09</td>\n",
       "      <td>1.589964e+09</td>\n",
       "      <td>NaN</td>\n",
       "      <td>1.00000</td>\n",
       "      <td>10259.00000</td>\n",
       "      <td>89.000000</td>\n",
       "      <td>15.00000</td>\n",
       "      <td>44.000000</td>\n",
       "      <td>96.000000</td>\n",
       "      <td>9088.000000</td>\n",
       "      <td>5.000000</td>\n",
       "      <td>1.561384e+08</td>\n",
       "      <td>1.188151e+08</td>\n",
       "    </tr>\n",
       "    <tr>\n",
       "      <th>max</th>\n",
       "      <td>2.676015e+08</td>\n",
       "      <td>3960.000000</td>\n",
       "      <td>2.463434e+09</td>\n",
       "      <td>2412.000000</td>\n",
       "      <td>3626.000000</td>\n",
       "      <td>1.590795e+09</td>\n",
       "      <td>2.000000</td>\n",
       "      <td>7.832626e+09</td>\n",
       "      <td>1.590795e+09</td>\n",
       "      <td>NaN</td>\n",
       "      <td>1.00000</td>\n",
       "      <td>16647.00000</td>\n",
       "      <td>612.000000</td>\n",
       "      <td>67.00000</td>\n",
       "      <td>113.000000</td>\n",
       "      <td>309.000000</td>\n",
       "      <td>23513.000000</td>\n",
       "      <td>5.000000</td>\n",
       "      <td>1.720565e+08</td>\n",
       "      <td>2.676048e+08</td>\n",
       "    </tr>\n",
       "  </tbody>\n",
       "</table>\n",
       "</div>"
      ],
      "text/plain": [
       "       author_shopid       cat_id         cmtid  count_rating_with_image  \\\n",
       "count   1.000000e+02   100.000000  1.000000e+02               100.000000   \n",
       "mean    9.165345e+07  2678.650000  2.313313e+09               715.080000   \n",
       "std     7.629192e+07   577.913442  1.778786e+08               861.705083   \n",
       "min     3.614449e+06    42.000000  1.414417e+09                 0.000000   \n",
       "25%     2.942194e+07  2160.000000  2.319222e+09                42.750000   \n",
       "50%     8.029423e+07  2580.000000  2.338198e+09               284.000000   \n",
       "75%     1.188133e+08  2902.000000  2.422795e+09               922.000000   \n",
       "max     2.676015e+08  3960.000000  2.463434e+09              2412.000000   \n",
       "\n",
       "       count_with_context         ctime    editable       item_id  \\\n",
       "count          100.000000  1.000000e+02  100.000000  1.000000e+02   \n",
       "mean          1259.940000  1.587748e+09    0.880000  3.835310e+09   \n",
       "std           1372.139941  4.372252e+06    0.477367  2.092785e+09   \n",
       "min              5.000000  1.564130e+09    0.000000  8.451010e+08   \n",
       "25%             56.000000  1.588259e+09    1.000000  2.354260e+09   \n",
       "50%            680.000000  1.588655e+09    1.000000  2.767211e+09   \n",
       "75%           2182.000000  1.589964e+09    1.000000  5.505998e+09   \n",
       "max           3626.000000  1.590795e+09    2.000000  7.832626e+09   \n",
       "\n",
       "              mtime  orderid     rating  rating_count0  rating_count1  \\\n",
       "count  1.000000e+02      0.0  100.00000      100.00000     100.000000   \n",
       "mean   1.587779e+09      NaN    0.83000     5463.27000     132.670000   \n",
       "std    4.334472e+06      NaN    0.55149     6198.81407     224.825681   \n",
       "min    1.564130e+09      NaN   -1.00000       17.00000       0.000000   \n",
       "25%    1.588259e+09      NaN    1.00000      254.50000       1.750000   \n",
       "50%    1.588655e+09      NaN    1.00000     1551.00000      10.000000   \n",
       "75%    1.589964e+09      NaN    1.00000    10259.00000      89.000000   \n",
       "max    1.590795e+09      NaN    1.00000    16647.00000     612.000000   \n",
       "\n",
       "       rating_count2  rating_count3  rating_count4  rating_count5  \\\n",
       "count      100.00000     100.000000     100.000000     100.000000   \n",
       "mean        15.98000      31.050000      87.550000    6961.970000   \n",
       "std         24.49159      42.989399     116.007347    8529.522252   \n",
       "min          0.00000       0.000000       0.000000      14.000000   \n",
       "25%          0.00000       0.750000       2.750000     148.000000   \n",
       "50%          4.00000       4.500000      20.000000    2449.500000   \n",
       "75%         15.00000      44.000000      96.000000    9088.000000   \n",
       "max         67.00000     113.000000     309.000000   23513.000000   \n",
       "\n",
       "       rating_star       shop_id        userid  \n",
       "count   100.000000  1.000000e+02  1.000000e+02  \n",
       "mean      4.640000  8.219773e+07  9.165527e+07  \n",
       "std       1.123846  5.879091e+07  7.629268e+07  \n",
       "min       1.000000  1.912337e+06  3.615821e+06  \n",
       "25%       5.000000  1.978175e+07  2.942333e+07  \n",
       "50%       5.000000  7.401964e+07  8.029570e+07  \n",
       "75%       5.000000  1.561384e+08  1.188151e+08  \n",
       "max       5.000000  1.720565e+08  2.676048e+08  "
      ]
     },
     "execution_count": 4,
     "metadata": {},
     "output_type": "execute_result"
    }
   ],
   "source": [
    "df.describe()"
   ]
  },
  {
   "cell_type": "code",
   "execution_count": 5,
   "metadata": {},
   "outputs": [
    {
     "data": {
      "text/plain": [
       "anonymous                    0\n",
       "author_shopid                0\n",
       "author_username              0\n",
       "cat_id                       0\n",
       "cmtid                        0\n",
       "comment                      0\n",
       "count_rating_with_image      0\n",
       "count_with_context           0\n",
       "ctime                        0\n",
       "editable                     0\n",
       "item_id                      0\n",
       "mtime                        0\n",
       "orderid                    100\n",
       "product_title                0\n",
       "rating                       0\n",
       "rating_count0                0\n",
       "rating_count1                0\n",
       "rating_count2                0\n",
       "rating_count3                0\n",
       "rating_count4                0\n",
       "rating_count5                0\n",
       "rating_star                  0\n",
       "shop_id                      0\n",
       "userid                       0\n",
       "fakeornot                    0\n",
       "dtype: int64"
      ]
     },
     "execution_count": 5,
     "metadata": {},
     "output_type": "execute_result"
    }
   ],
   "source": [
    "# Check null values\n",
    "df.isna().sum()"
   ]
  },
  {
   "cell_type": "code",
   "execution_count": 6,
   "metadata": {},
   "outputs": [],
   "source": [
    "del df['orderid']"
   ]
  },
  {
   "cell_type": "code",
   "execution_count": 7,
   "metadata": {},
   "outputs": [
    {
     "data": {
      "text/plain": [
       "fake        51\n",
       "original    49\n",
       "Name: fakeornot, dtype: int64"
      ]
     },
     "execution_count": 7,
     "metadata": {},
     "output_type": "execute_result"
    }
   ],
   "source": [
    "df['fakeornot'].value_counts()"
   ]
  },
  {
   "cell_type": "code",
   "execution_count": 8,
   "metadata": {},
   "outputs": [],
   "source": [
    "# Preprocessing\n",
    "# Lowercase\n",
    "df['comment'] = df.apply(lambda row: str(row['comment']).lower(), axis=1)"
   ]
  },
  {
   "cell_type": "code",
   "execution_count": 9,
   "metadata": {},
   "outputs": [],
   "source": [
    "# Preprocessing\n",
    "# Remove Punctuations\n",
    "tokenizer = RegexpTokenizer(r'\\w+')\n",
    "df['comment'] = df['comment'].apply(lambda x: ' '.join(word for word in tokenizer.tokenize(x)))"
   ]
  },
  {
   "cell_type": "code",
   "execution_count": 10,
   "metadata": {},
   "outputs": [],
   "source": [
    "# Feature Engineering\n",
    "df['review_length'] = df['comment'].apply(lambda x: len(x.split()))"
   ]
  },
  {
   "cell_type": "code",
   "execution_count": 11,
   "metadata": {},
   "outputs": [],
   "source": [
    "# Convert UNIX timestamp to date and time\n",
    "df['date'] = pd.to_datetime(df['ctime'],unit='s').dt.date\n",
    "df['time'] = pd.to_datetime(df['ctime'],unit='s').dt.time"
   ]
  },
  {
   "cell_type": "code",
   "execution_count": 12,
   "metadata": {},
   "outputs": [],
   "source": [
    "# Maximum Number of Reviews per day per reviewer\n",
    "mnr_df1 = df[['userid', 'date']].copy()\n",
    "mnr_df2 = mnr_df1.groupby(by=['date', 'userid']).size().reset_index(name='mnr')\n",
    "mnr_df2['mnr'] = mnr_df2['mnr'] / mnr_df2['mnr'].max()\n",
    "df = df.merge(mnr_df2, on=['userid', 'date'], how='inner')"
   ]
  },
  {
   "cell_type": "code",
   "execution_count": 13,
   "metadata": {},
   "outputs": [
    {
     "name": "stderr",
     "output_type": "stream",
     "text": [
      "/Library/Frameworks/Python.framework/Versions/3.7/lib/python3.7/site-packages/ipykernel_launcher.py:14: DeprecationWarning: The default dtype for empty Series will be 'object' instead of 'float64' in a future version. Specify a dtype explicitly to silence this warning.\n",
      "  \n",
      "/Library/Frameworks/Python.framework/Versions/3.7/lib/python3.7/site-packages/ipykernel_launcher.py:15: DeprecationWarning: The default dtype for empty Series will be 'object' instead of 'float64' in a future version. Specify a dtype explicitly to silence this warning.\n",
      "  from ipykernel import kernelapp as app\n"
     ]
    }
   ],
   "source": [
    "# Maximum cosine similarity\n",
    "review_data = df\n",
    "res = OrderedDict()\n",
    "\n",
    "# Iterate over data and create groups of reviewers\n",
    "for row in review_data.iterrows():\n",
    "    if row[1].userid in res:\n",
    "        res[row[1].userid].append(row[1].comment)\n",
    "    else:\n",
    "        res[row[1].userid] = [row[1].comment]\n",
    "\n",
    "individual_reviewer = [{'userid': k, 'comment': v} for k, v in res.items()]\n",
    "df2 = dict()\n",
    "df2['userid'] = pd.Series([])\n",
    "df2['Maximum Content Similarity'] = pd.Series([])\n",
    "vector = TfidfVectorizer(min_df=0)\n",
    "count = -1\n",
    "for reviewer_data in individual_reviewer:\n",
    "    count = count + 1\n",
    "    try:\n",
    "        tfidf = vector.fit_transform(reviewer_data['comment'])\n",
    "    except:\n",
    "        pass\n",
    "    cosine = 1 - pairwise_distances(tfidf, metric='cosine')\n",
    "\n",
    "    np.fill_diagonal(cosine, -np.inf)\n",
    "    max = cosine.max()\n",
    "\n",
    "    # To handle reviewier with just 1 review\n",
    "    if max == -np.inf:\n",
    "        max = 0\n",
    "    df2['userid'][count] = reviewer_data['userid']\n",
    "    df2['Maximum Content Similarity'][count] = max\n",
    "\n",
    "df3 = pd.DataFrame(df2, columns=['userid', 'Maximum Content Similarity'])"
   ]
  },
  {
   "cell_type": "code",
   "execution_count": 14,
   "metadata": {},
   "outputs": [],
   "source": [
    "# left outer join on original datamatrix and cosine dataframe\n",
    "df = pd.merge(review_data, df3, on=\"userid\", how=\"left\")\n",
    "df.drop(index=np.where(pd.isnull(df))[0], axis=0, inplace=True)"
   ]
  },
  {
   "cell_type": "code",
   "execution_count": 15,
   "metadata": {},
   "outputs": [],
   "source": [
    "df.drop(['anonymous', 'author_shopid', 'author_username', 'cat_id', 'date', 'time',\n",
    "         'cmtid', 'comment', 'count_rating_with_image', 'count_with_context', \n",
    "         'ctime', 'editable', 'item_id', 'mtime', 'product_title', \n",
    "         'rating', 'rating_count0', 'rating_count0', 'rating_count1', 'rating_count2', \n",
    "         'rating_count3', 'rating_count4', 'rating_count5', 'rating_star', 'shop_id', 'userid'], axis=1, inplace=True)"
   ]
  },
  {
   "cell_type": "code",
   "execution_count": 16,
   "metadata": {},
   "outputs": [],
   "source": [
    "X = df[['review_length', 'mnr', 'Maximum Content Similarity']]\n",
    "y = df['fakeornot']"
   ]
  },
  {
   "cell_type": "code",
   "execution_count": 17,
   "metadata": {},
   "outputs": [],
   "source": [
    "X_train, X_test, y_train, y_test = train_test_split(X, y, test_size = 0.3, random_state=42)"
   ]
  },
  {
   "cell_type": "code",
   "execution_count": 18,
   "metadata": {},
   "outputs": [
    {
     "name": "stdout",
     "output_type": "stream",
     "text": [
      "Accuracy for C=0.75: 0.7666666666666667\n",
      "Accuracy for C=1: 0.8333333333333334\n",
      "Accuracy for C=2: 0.8333333333333334\n",
      "Accuracy for C=3: 0.8333333333333334\n",
      "Accuracy for C=4: 0.8333333333333334\n",
      "Accuracy for C=5: 0.8333333333333334\n",
      "Accuracy for C=10: 0.8333333333333334\n"
     ]
    }
   ],
   "source": [
    "c_val = [0.75, 1, 2, 3, 4, 5, 10]\n",
    "\n",
    "for c in c_val:\n",
    "    logreg = LogisticRegression(C=c)\n",
    "    logreg.fit(X_train, y_train)\n",
    "    print (\"Accuracy for C=%s: %s\" % (c, accuracy_score(y_test, logreg.predict(X_test))))"
   ]
  },
  {
   "cell_type": "code",
   "execution_count": 19,
   "metadata": {},
   "outputs": [
    {
     "data": {
      "text/plain": [
       "array([[12,  5],\n",
       "       [ 0, 13]])"
      ]
     },
     "execution_count": 19,
     "metadata": {},
     "output_type": "execute_result"
    }
   ],
   "source": [
    "confusionMatrix = confusion_matrix(y_test, logreg.predict(X_test))\n",
    "confusionMatrix"
   ]
  },
  {
   "cell_type": "code",
   "execution_count": 20,
   "metadata": {},
   "outputs": [
    {
     "data": {
      "text/plain": [
       "<AxesSubplot:xlabel='Predicted', ylabel='Actual'>"
      ]
     },
     "execution_count": 20,
     "metadata": {},
     "output_type": "execute_result"
    },
    {
     "data": {
      "image/png": "[encoded data removed]",
      "text/plain": [
       "<Figure size 720x720 with 2 Axes>"
      ]
     },
     "metadata": {
      "needs_background": "light"
     },
     "output_type": "display_data"
    }
   ],
   "source": [
    "confusionMatrix = pd.DataFrame(confusionMatrix, index=[0,1], columns=[0,1])\n",
    "confusionMatrix.index.name = 'Actual'\n",
    "confusionMatrix.columns.name = 'Predicted'\n",
    "\n",
    "plt.figure(figsize = (10,10))\n",
    "sns.heatmap(confusionMatrix, cmap= \"Blues\",annot = True, fmt='')"
   ]
  },
  {
   "cell_type": "code",
   "execution_count": 21,
   "metadata": {},
   "outputs": [
    {
     "name": "stdout",
     "output_type": "stream",
     "text": [
      "Accuracy Score : 0.8333333333333334\n",
      "Precision Score : 0.7222222222222222\n",
      "Recall Score : 1.0\n",
      "F1 Score : 0.8387096774193548\n"
     ]
    }
   ],
   "source": [
    "predicted = logreg.predict(X_test)\n",
    "print('Accuracy Score : ' + str(accuracy_score(y_test, predicted)))\n",
    "print('Precision Score : ' + str(precision_score(y_test, predicted, pos_label=\"original\")))\n",
    "print('Recall Score : ' + str(recall_score(y_test, predicted, pos_label=\"original\")))\n",
    "print('F1 Score : ' + str(f1_score(y_test, predicted, pos_label=\"original\")))"
   ]
  },
  {
   "cell_type": "code",
   "execution_count": 22,
   "metadata": {},
   "outputs": [
    {
     "data": {
      "text/plain": [
       "<AxesSubplot:>"
      ]
     },
     "execution_count": 22,
     "metadata": {},
     "output_type": "execute_result"
    },
    {
     "data": {
      "image/png": "[encoded data removed]",
      "text/plain": [
       "<Figure size 432x288 with 1 Axes>"
      ]
     },
     "metadata": {
      "needs_background": "light"
     },
     "output_type": "display_data"
    }
   ],
   "source": [
    "df['fakeornot'].value_counts().plot(kind='bar')"
   ]
  },
  {
   "cell_type": "code",
   "execution_count": 23,
   "metadata": {},
   "outputs": [],
   "source": [
    "test = pd.read_csv(\"review_shopee.csv\")"
   ]
  },
  {
   "cell_type": "code",
   "execution_count": 24,
   "metadata": {},
   "outputs": [],
   "source": [
    "test['comment'] = test.apply(lambda row: str(row['comment']).lower(), axis=1)"
   ]
  },
  {
   "cell_type": "code",
   "execution_count": 25,
   "metadata": {},
   "outputs": [],
   "source": [
    "# Preprocessing\n",
    "# Remove Punctuations\n",
    "tokenizer = RegexpTokenizer(r'\\w+')\n",
    "test['comment'] = test['comment'].apply(lambda x: ' '.join(word for word in tokenizer.tokenize(x)))"
   ]
  },
  {
   "cell_type": "code",
   "execution_count": 26,
   "metadata": {},
   "outputs": [],
   "source": [
    "# Feature Engineering\n",
    "test['review_length'] = test['comment'].apply(lambda x: len(x.split()))\n",
    "\n",
    "# Convert UNIX timestamp to date and time\n",
    "test['date'] = pd.to_datetime(test['ctime'],unit='s').dt.date\n",
    "test['time'] = pd.to_datetime(test['ctime'],unit='s').dt.time\n",
    "\n",
    "# Maximum Number of Reviews per day per reviewer\n",
    "mnr_df1 = test[['userid', 'date']].copy()\n",
    "mnr_df2 = mnr_df1.groupby(by=['date', 'userid']).size().reset_index(name='mnr')\n",
    "mnr_df2['mnr'] = mnr_df2['mnr'] / mnr_df2['mnr'].max()\n",
    "test = test.merge(mnr_df2, on=['userid', 'date'], how='inner')"
   ]
  },
  {
   "cell_type": "code",
   "execution_count": 27,
   "metadata": {},
   "outputs": [
    {
     "name": "stderr",
     "output_type": "stream",
     "text": [
      "/Library/Frameworks/Python.framework/Versions/3.7/lib/python3.7/site-packages/ipykernel_launcher.py:14: DeprecationWarning: The default dtype for empty Series will be 'object' instead of 'float64' in a future version. Specify a dtype explicitly to silence this warning.\n",
      "  \n",
      "/Library/Frameworks/Python.framework/Versions/3.7/lib/python3.7/site-packages/ipykernel_launcher.py:15: DeprecationWarning: The default dtype for empty Series will be 'object' instead of 'float64' in a future version. Specify a dtype explicitly to silence this warning.\n",
      "  from ipykernel import kernelapp as app\n"
     ]
    }
   ],
   "source": [
    "# Cosine Similarity\n",
    "review_data = test\n",
    "res = OrderedDict()\n",
    "\n",
    "# Iterate over data and create groups of reviewers\n",
    "for row in review_data.iterrows():\n",
    "    if row[1].userid in res:\n",
    "        res[row[1].userid].append(row[1].comment)\n",
    "    else:\n",
    "        res[row[1].userid] = [row[1].comment]\n",
    "\n",
    "individual_reviewer = [{'userid': k, 'comment': v} for k, v in res.items()]\n",
    "df2 = dict()\n",
    "df2['userid'] = pd.Series([])\n",
    "df2['Maximum Content Similarity'] = pd.Series([])\n",
    "vector = TfidfVectorizer(min_df=0)\n",
    "count = -1\n",
    "for reviewer_data in individual_reviewer:\n",
    "    count = count + 1\n",
    "    try:\n",
    "        tfidf = vector.fit_transform(reviewer_data['comment'])\n",
    "    except:\n",
    "        pass\n",
    "    cosine = 1 - pairwise_distances(tfidf, metric='cosine')\n",
    "\n",
    "    np.fill_diagonal(cosine, -np.inf)\n",
    "    max = cosine.max()\n",
    "\n",
    "    # To handle reviewier with just one review\n",
    "    if max == -np.inf:\n",
    "        max = 0\n",
    "    df2['userid'][count] = reviewer_data['userid']\n",
    "    df2['Maximum Content Similarity'][count] = max\n",
    "\n",
    "df3 = pd.DataFrame(df2, columns=['userid', 'Maximum Content Similarity'])\n",
    "# left outer join on original datamatrix and cosine dataframe\n",
    "test = pd.merge(review_data, df3, on=\"userid\", how=\"left\")\n",
    "df.drop(index=np.where(pd.isnull(df))[0], axis=0, inplace=True)"
   ]
  },
  {
   "cell_type": "code",
   "execution_count": 28,
   "metadata": {},
   "outputs": [
    {
     "data": {
      "text/plain": [
       "LogisticRegression(C=10)"
      ]
     },
     "execution_count": 28,
     "metadata": {},
     "output_type": "execute_result"
    }
   ],
   "source": [
    "logreg = LogisticRegression(C=10)\n",
    "logreg.fit(X_train, y_train)"
   ]
  },
  {
   "cell_type": "code",
   "execution_count": 29,
   "metadata": {},
   "outputs": [],
   "source": [
    "test['fakeornot'] = 'none'"
   ]
  },
  {
   "cell_type": "code",
   "execution_count": 30,
   "metadata": {},
   "outputs": [],
   "source": [
    "y_pred = logreg.predict(test[['review_length', 'mnr', 'Maximum Content Similarity']])\n",
    "test['fakeornot'] = y_pred"
   ]
  },
  {
   "cell_type": "code",
   "execution_count": 31,
   "metadata": {},
   "outputs": [
    {
     "data": {
      "text/html": [
       "<div>\n",
       "<style scoped>\n",
       "    .dataframe tbody tr th:only-of-type {\n",
       "        vertical-align: middle;\n",
       "    }\n",
       "\n",
       "    .dataframe tbody tr th {\n",
       "        vertical-align: top;\n",
       "    }\n",
       "\n",
       "    .dataframe thead th {\n",
       "        text-align: right;\n",
       "    }\n",
       "</style>\n",
       "<table border=\"1\" class=\"dataframe\">\n",
       "  <thead>\n",
       "    <tr style=\"text-align: right;\">\n",
       "      <th></th>\n",
       "      <th>anonymous</th>\n",
       "      <th>author_shopid</th>\n",
       "      <th>author_username</th>\n",
       "      <th>cat_id</th>\n",
       "      <th>cmtid</th>\n",
       "      <th>comment</th>\n",
       "      <th>count_rating_with_image</th>\n",
       "      <th>count_with_context</th>\n",
       "      <th>ctime</th>\n",
       "      <th>editable</th>\n",
       "      <th>...</th>\n",
       "      <th>rating_count5</th>\n",
       "      <th>rating_star</th>\n",
       "      <th>shop_id</th>\n",
       "      <th>userid</th>\n",
       "      <th>review_length</th>\n",
       "      <th>date</th>\n",
       "      <th>time</th>\n",
       "      <th>mnr</th>\n",
       "      <th>Maximum Content Similarity</th>\n",
       "      <th>fakeornot</th>\n",
       "    </tr>\n",
       "  </thead>\n",
       "  <tbody>\n",
       "    <tr>\n",
       "      <th>0</th>\n",
       "      <td>False</td>\n",
       "      <td>15568078.0</td>\n",
       "      <td>partianadewi</td>\n",
       "      <td>3268.0</td>\n",
       "      <td>1.940509e+09</td>\n",
       "      <td>work tp proses lama</td>\n",
       "      <td>0.0</td>\n",
       "      <td>5.0</td>\n",
       "      <td>1.578476e+09</td>\n",
       "      <td>0.0</td>\n",
       "      <td>...</td>\n",
       "      <td>14.0</td>\n",
       "      <td>5.0</td>\n",
       "      <td>121336544.0</td>\n",
       "      <td>15569414.0</td>\n",
       "      <td>4</td>\n",
       "      <td>2020-01-08</td>\n",
       "      <td>09:36:53</td>\n",
       "      <td>0.034483</td>\n",
       "      <td>0.0</td>\n",
       "      <td>original</td>\n",
       "    </tr>\n",
       "    <tr>\n",
       "      <th>1</th>\n",
       "      <td>False</td>\n",
       "      <td>140322961.0</td>\n",
       "      <td>arvie2003</td>\n",
       "      <td>3268.0</td>\n",
       "      <td>1.925999e+09</td>\n",
       "      <td>respon cepat work dan proses agak lama</td>\n",
       "      <td>0.0</td>\n",
       "      <td>5.0</td>\n",
       "      <td>1.578085e+09</td>\n",
       "      <td>0.0</td>\n",
       "      <td>...</td>\n",
       "      <td>14.0</td>\n",
       "      <td>5.0</td>\n",
       "      <td>121336544.0</td>\n",
       "      <td>140324785.0</td>\n",
       "      <td>7</td>\n",
       "      <td>2020-01-03</td>\n",
       "      <td>21:03:30</td>\n",
       "      <td>0.034483</td>\n",
       "      <td>0.0</td>\n",
       "      <td>original</td>\n",
       "    </tr>\n",
       "    <tr>\n",
       "      <th>2</th>\n",
       "      <td>False</td>\n",
       "      <td>129737336.0</td>\n",
       "      <td>rama171200</td>\n",
       "      <td>3268.0</td>\n",
       "      <td>1.923213e+09</td>\n",
       "      <td>mantull work</td>\n",
       "      <td>0.0</td>\n",
       "      <td>5.0</td>\n",
       "      <td>1.578014e+09</td>\n",
       "      <td>0.0</td>\n",
       "      <td>...</td>\n",
       "      <td>14.0</td>\n",
       "      <td>5.0</td>\n",
       "      <td>121336544.0</td>\n",
       "      <td>129739160.0</td>\n",
       "      <td>2</td>\n",
       "      <td>2020-01-03</td>\n",
       "      <td>01:16:05</td>\n",
       "      <td>0.034483</td>\n",
       "      <td>0.0</td>\n",
       "      <td>original</td>\n",
       "    </tr>\n",
       "    <tr>\n",
       "      <th>3</th>\n",
       "      <td>False</td>\n",
       "      <td>60908796.0</td>\n",
       "      <td>tokkibaechu23</td>\n",
       "      <td>3268.0</td>\n",
       "      <td>1.942090e+09</td>\n",
       "      <td>nan</td>\n",
       "      <td>0.0</td>\n",
       "      <td>5.0</td>\n",
       "      <td>1.578507e+09</td>\n",
       "      <td>0.0</td>\n",
       "      <td>...</td>\n",
       "      <td>14.0</td>\n",
       "      <td>5.0</td>\n",
       "      <td>121336544.0</td>\n",
       "      <td>60910238.0</td>\n",
       "      <td>1</td>\n",
       "      <td>2020-01-08</td>\n",
       "      <td>18:03:41</td>\n",
       "      <td>0.034483</td>\n",
       "      <td>0.0</td>\n",
       "      <td>original</td>\n",
       "    </tr>\n",
       "    <tr>\n",
       "      <th>4</th>\n",
       "      <td>False</td>\n",
       "      <td>176362338.0</td>\n",
       "      <td>theosetyawan10</td>\n",
       "      <td>3268.0</td>\n",
       "      <td>1.941692e+09</td>\n",
       "      <td>nan</td>\n",
       "      <td>0.0</td>\n",
       "      <td>5.0</td>\n",
       "      <td>1.578494e+09</td>\n",
       "      <td>0.0</td>\n",
       "      <td>...</td>\n",
       "      <td>14.0</td>\n",
       "      <td>5.0</td>\n",
       "      <td>121336544.0</td>\n",
       "      <td>176364847.0</td>\n",
       "      <td>1</td>\n",
       "      <td>2020-01-08</td>\n",
       "      <td>14:38:05</td>\n",
       "      <td>0.034483</td>\n",
       "      <td>1.0</td>\n",
       "      <td>fake</td>\n",
       "    </tr>\n",
       "  </tbody>\n",
       "</table>\n",
       "<p>5 rows × 30 columns</p>\n",
       "</div>"
      ],
      "text/plain": [
       "  anonymous  author_shopid author_username  cat_id         cmtid  \\\n",
       "0     False     15568078.0    partianadewi  3268.0  1.940509e+09   \n",
       "1     False    140322961.0       arvie2003  3268.0  1.925999e+09   \n",
       "2     False    129737336.0      rama171200  3268.0  1.923213e+09   \n",
       "3     False     60908796.0   tokkibaechu23  3268.0  1.942090e+09   \n",
       "4     False    176362338.0  theosetyawan10  3268.0  1.941692e+09   \n",
       "\n",
       "                                  comment  count_rating_with_image  \\\n",
       "0                     work tp proses lama                      0.0   \n",
       "1  respon cepat work dan proses agak lama                      0.0   \n",
       "2                            mantull work                      0.0   \n",
       "3                                     nan                      0.0   \n",
       "4                                     nan                      0.0   \n",
       "\n",
       "   count_with_context         ctime  editable  ...  rating_count5  \\\n",
       "0                 5.0  1.578476e+09       0.0  ...           14.0   \n",
       "1                 5.0  1.578085e+09       0.0  ...           14.0   \n",
       "2                 5.0  1.578014e+09       0.0  ...           14.0   \n",
       "3                 5.0  1.578507e+09       0.0  ...           14.0   \n",
       "4                 5.0  1.578494e+09       0.0  ...           14.0   \n",
       "\n",
       "   rating_star      shop_id       userid  review_length        date      time  \\\n",
       "0          5.0  121336544.0   15569414.0              4  2020-01-08  09:36:53   \n",
       "1          5.0  121336544.0  140324785.0              7  2020-01-03  21:03:30   \n",
       "2          5.0  121336544.0  129739160.0              2  2020-01-03  01:16:05   \n",
       "3          5.0  121336544.0   60910238.0              1  2020-01-08  18:03:41   \n",
       "4          5.0  121336544.0  176364847.0              1  2020-01-08  14:38:05   \n",
       "\n",
       "        mnr  Maximum Content Similarity  fakeornot  \n",
       "0  0.034483                         0.0   original  \n",
       "1  0.034483                         0.0   original  \n",
       "2  0.034483                         0.0   original  \n",
       "3  0.034483                         0.0   original  \n",
       "4  0.034483                         1.0       fake  \n",
       "\n",
       "[5 rows x 30 columns]"
      ]
     },
     "execution_count": 31,
     "metadata": {},
     "output_type": "execute_result"
    }
   ],
   "source": [
    "test.head()"
   ]
  },
  {
   "cell_type": "code",
   "execution_count": 32,
   "metadata": {},
   "outputs": [],
   "source": [
    "# Export classifier result to .csv\n",
    "# test.to_csv(\"output_test.csv\", index=False, encoding='utf-8')"
   ]
  },
  {
   "cell_type": "code",
   "execution_count": 33,
   "metadata": {},
   "outputs": [
    {
     "name": "stdout",
     "output_type": "stream",
     "text": [
      "903\n",
      "3727\n"
     ]
    }
   ],
   "source": [
    "fake = test.fakeornot.str.count(\"fake\").sum()\n",
    "original = test.fakeornot.str.count(\"original\").sum()\n",
    "\n",
    "print(fake)\n",
    "print(original)"
   ]
  },
  {
   "cell_type": "code",
   "execution_count": 34,
   "metadata": {},
   "outputs": [
    {
     "data": {
      "image/png": "[encoded data removed]",
      "text/plain": [
       "<Figure size 432x288 with 1 Axes>"
      ]
     },
     "metadata": {},
     "output_type": "display_data"
    }
   ],
   "source": [
    "labels = ['Fake Review', 'Authentic',]\n",
    "filter_opini = [fake, original]\n",
    "colors = ['orange', 'seagreen']\n",
    "explode = (0.1, 0)  # explode 1st slice\n",
    "\n",
    "plt.pie(filter_opini, explode=explode, labels=labels, colors=colors,\n",
    "        autopct='%1.1f%%', shadow=True, startangle=140)\n",
    "plt.axis('equal')\n",
    "plt.show()"
   ]
  },
  {
   "cell_type": "code",
   "execution_count": 35,
   "metadata": {},
   "outputs": [
    {
     "data": {
      "image/png": "[encoded data removed]",
      "text/plain": [
       "<Figure size 432x288 with 1 Axes>"
      ]
     },
     "metadata": {
      "needs_background": "light"
     },
     "output_type": "display_data"
    }
   ],
   "source": [
    "# Histogram\n",
    "plt.hist(test['review_length'].loc[(test.fakeornot == 'fake')],rwidth=0.9,alpha=0.5,color='firebrick',bins=15,edgecolor='black') \n",
    "\n",
    "plt.xlabel('Text Length') \n",
    "plt.ylabel('Amount')\n",
    "plt.title('Review Length Distribution (Fake Reviews)') \n",
    "\n",
    "plt.show()"
   ]
  },
  {
   "cell_type": "code",
   "execution_count": 36,
   "metadata": {},
   "outputs": [
    {
     "data": {
      "image/png": "[encoded data removed]",
      "text/plain": [
       "<Figure size 432x288 with 1 Axes>"
      ]
     },
     "metadata": {
      "needs_background": "light"
     },
     "output_type": "display_data"
    }
   ],
   "source": [
    "# Histogram\n",
    "plt.hist(test['review_length'].loc[(test.fakeornot == 'original')],rwidth=0.9,alpha=0.5,color='dodgerblue',bins=15,edgecolor='black') \n",
    "\n",
    "plt.xlabel('Text Length') \n",
    "plt.ylabel('Amount')\n",
    "plt.title('Review Length Distribution (Authentic Reviews)') \n",
    "\n",
    "plt.show()"
   ]
  },
  {
   "cell_type": "code",
   "execution_count": 37,
   "metadata": {},
   "outputs": [
    {
     "name": "stderr",
     "output_type": "stream",
     "text": [
      "/Library/Frameworks/Python.framework/Versions/3.7/lib/python3.7/site-packages/ipykernel_launcher.py:1: FutureWarning: Passing a negative integer is deprecated in version 1.0 and will not be supported in future version. Instead, use None to not limit the column width.\n",
      "  \"\"\"Entry point for launching an IPython kernel.\n"
     ]
    }
   ],
   "source": [
    "pd.set_option('display.max_colwidth', -1)"
   ]
  },
  {
   "cell_type": "code",
   "execution_count": 38,
   "metadata": {},
   "outputs": [
    {
     "data": {
      "text/plain": [
       "4       nan                                                                                      \n",
       "6       sangat memuaskan belanja di sini akun original indonesia harga murah penjual respon cepet\n",
       "7       nan                                                                                      \n",
       "8       nan                                                                                      \n",
       "19      nan                                                                                      \n",
       "       ...                                                                                       \n",
       "4579    josssssssssssssssssssssssssssssssssssssssssssssssss                                      \n",
       "4591    seller nya cepat semoga awet ya hehehehheehehehehehehehehhehehehehe                      \n",
       "4592    selalu terpercaya dan langganan disini tidak perlu diragukan lagi                        \n",
       "4608    mantap kak                                                                               \n",
       "4629    recommended seller proses cepat gausah tunggu lama langsung jadi                         \n",
       "Name: comment, Length: 903, dtype: object"
      ]
     },
     "execution_count": 38,
     "metadata": {},
     "output_type": "execute_result"
    }
   ],
   "source": [
    "test['comment'].loc[(test.fakeornot == 'fake')]"
   ]
  },
  {
   "cell_type": "code",
   "execution_count": 39,
   "metadata": {},
   "outputs": [
    {
     "data": {
      "text/plain": [
       "0       work tp proses lama                                                                                                 \n",
       "1       respon cepat work dan proses agak lama                                                                              \n",
       "2       mantull work                                                                                                        \n",
       "3       nan                                                                                                                 \n",
       "5       nan                                                                                                                 \n",
       "       ...                                                                                                                  \n",
       "4624    mantap akun langsung bisa digunakan harga murah banget pula semoga masa langganannya awet sampai tanggal berakhirnya\n",
       "4625    mantab walo hari libur masih di layani                                                                              \n",
       "4626    mantabbb sekali ini seller sangat responsif tidak ada kendala sama sekali                                           \n",
       "4627    respon penjual sangat cepat dan ramah next order disini lagi terimakasih                                            \n",
       "4628    nan                                                                                                                 \n",
       "Name: comment, Length: 3727, dtype: object"
      ]
     },
     "execution_count": 39,
     "metadata": {},
     "output_type": "execute_result"
    }
   ],
   "source": [
    "test['comment'].loc[(test.fakeornot == 'original')]"
   ]
  },
  {
   "cell_type": "code",
   "execution_count": null,
   "metadata": {},
   "outputs": [],
   "source": []
  }
 ],
 "metadata": {
  "kernelspec": {
   "display_name": "Python 3",
   "language": "python",
   "name": "python3"
  },
  "language_info": {
   "codemirror_mode": {
    "name": "ipython",
    "version": 3
   },
   "file_extension": ".py",
   "mimetype": "text/x-python",
   "name": "python",
   "nbconvert_exporter": "python",
   "pygments_lexer": "ipython3",
   "version": "3.7.4"
  }
 },
 "nbformat": 4,
 "nbformat_minor": 2
}
